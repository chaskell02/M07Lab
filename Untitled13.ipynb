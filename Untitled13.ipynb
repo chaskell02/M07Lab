{
 "cells": [
  {
   "cell_type": "code",
   "execution_count": null,
   "id": "dbdfda8a",
   "metadata": {},
   "outputs": [
    {
     "ename": "",
     "evalue": "",
     "output_type": "error",
     "traceback": [
      "\u001b[1;31mRunning cells with 'Python 3.8.2 64-bit' requires ipykernel package.\n",
      "Run the following command to install 'ipykernel' into the Python environment. \n",
      "Command: '/usr/bin/python3 -m pip install ipykernel -U --user --force-reinstall'"
     ]
    }
   ],
   "source": [
    "import os\n",
    "from ipywidgets import FileUpload\n",
    "import pandas as pd\n",
    "\n",
    "# File upload widget\n",
    "upload_widget = FileUpload()\n",
    "display(upload_widget)\n",
    "\n",
    "# Function to handle the file upload\n",
    "def handle_upload(change):\n",
    "    file_name = 'telco_churn.csv'\n",
    "    \n",
    "    if upload_widget.value:\n",
    "        uploaded_file = list(upload_widget.value.values())[0]\n",
    "        file_content = uploaded_file['content']\n",
    "\n",
    "        # Save the uploaded file to the current working directory\n",
    "        with open(file_name, 'wb') as f:\n",
    "            f.write(file_content)\n",
    "\n",
    "        # Get the full path to the uploaded file\n",
    "        file_path = os.path.abspath(file_name)\n",
    "\n",
    "        # Now you can use file_path to read the CSV file into a pandas DataFrame\n",
    "        df = pd.read_csv(file_path)\n",
    "\n",
    "        # Display the DataFrame\n",
    "        display(df)\n",
    "\n",
    "# Attach the function to the file upload widget\n",
    "upload_widget.observe(handle_upload, names='data')\n",
    "\n"
   ]
  },
  {
   "cell_type": "code",
   "execution_count": null,
   "id": "cd34144c",
   "metadata": {},
   "outputs": [
    {
     "name": "stdout",
     "output_type": "stream",
     "text": [
      "DataFrame Info:\n"
     ]
    },
    {
     "ename": "NameError",
     "evalue": "name 'df' is not defined",
     "output_type": "error",
     "traceback": [
      "\u001b[0;31m---------------------------------------------------------------------------\u001b[0m",
      "\u001b[0;31mNameError\u001b[0m                                 Traceback (most recent call last)",
      "Cell \u001b[0;32mIn[3], line 6\u001b[0m\n\u001b[1;32m      1\u001b[0m \u001b[38;5;66;03m# Assuming df is the DataFrame containing the uploaded data\u001b[39;00m\n\u001b[1;32m      2\u001b[0m \u001b[38;5;66;03m# You can use the df variable from the previous code cell\u001b[39;00m\n\u001b[1;32m      3\u001b[0m \n\u001b[1;32m      4\u001b[0m \u001b[38;5;66;03m# Display basic information about the DataFrame\u001b[39;00m\n\u001b[1;32m      5\u001b[0m \u001b[38;5;28mprint\u001b[39m(\u001b[38;5;124m\"\u001b[39m\u001b[38;5;124mDataFrame Info:\u001b[39m\u001b[38;5;124m\"\u001b[39m)\n\u001b[0;32m----> 6\u001b[0m \u001b[38;5;28mprint\u001b[39m(df\u001b[38;5;241m.\u001b[39minfo())\n\u001b[1;32m      8\u001b[0m \u001b[38;5;66;03m# Display the first few rows of the DataFrame\u001b[39;00m\n\u001b[1;32m      9\u001b[0m \u001b[38;5;28mprint\u001b[39m(\u001b[38;5;124m\"\u001b[39m\u001b[38;5;130;01m\\n\u001b[39;00m\u001b[38;5;124mFirst 5 Rows:\u001b[39m\u001b[38;5;124m\"\u001b[39m)\n",
      "\u001b[0;31mNameError\u001b[0m: name 'df' is not defined"
     ]
    },
    {
     "ename": "",
     "evalue": "",
     "output_type": "error",
     "traceback": [
      "\u001b[1;31mRunning cells with 'Python 3.8.2 64-bit' requires ipykernel package.\n",
      "Run the following command to install 'ipykernel' into the Python environment. \n",
      "Command: '/usr/bin/python3 -m pip install ipykernel -U --user --force-reinstall'"
     ]
    }
   ],
   "source": [
    "# Assuming df is the DataFrame containing the uploaded data\n",
    "# You can use the df variable from the previous code cell\n",
    "\n",
    "# Display basic information about the DataFrame\n",
    "print(\"DataFrame Info:\")\n",
    "print(df.info())\n",
    "\n",
    "# Display the first few rows of the DataFrame\n",
    "print(\"\\nFirst 5 Rows:\")\n",
    "print(df.head())\n",
    "\n",
    "# Display statistical summary of numeric columns\n",
    "print(\"\\nSummary Statistics:\")\n",
    "print(df.describe())\n",
    "\n",
    "# Display unique values in categorical columns\n",
    "print(\"\\nUnique Values in 'State':\")\n",
    "print(df['State'].unique())\n",
    "\n",
    "print(\"\\nUnique Values in 'International plan':\")\n",
    "print(df['International plan'].unique())\n",
    "\n",
    "print(\"\\nUnique Values in 'Voice mail plan':\")\n",
    "print(df['Voice mail plan'].unique())\n",
    "\n",
    "# Display a histogram of 'Customer service calls'\n",
    "plt.figure(figsize=(8, 6))\n",
    "sns.histplot(df['Customer service calls'], bins=range(11), kde=False)\n",
    "plt.title('Distribution of Customer Service Calls')\n",
    "plt.xlabel('Number of Customer Service Calls')\n",
    "plt.ylabel('Count')\n",
    "plt.show()\n",
    "\n",
    "# Display a bar plot of 'Churn'\n",
    "plt.figure(figsize=(6, 4))\n",
    "sns.countplot(x='Churn', data=df)\n",
    "plt.title('Churn Distribution')\n",
    "plt.xlabel('Churn')\n",
    "plt.ylabel('Count')\n",
    "plt.show()\n"
   ]
  },
  {
   "cell_type": "code",
   "execution_count": null,
   "id": "5447dbfc",
   "metadata": {},
   "outputs": [
    {
     "ename": "",
     "evalue": "",
     "output_type": "error",
     "traceback": [
      "\u001b[1;31mRunning cells with 'Python 3.8.2 64-bit' requires ipykernel package.\n",
      "Run the following command to install 'ipykernel' into the Python environment. \n",
      "Command: '/usr/bin/python3 -m pip install ipykernel -U --user --force-reinstall'"
     ]
    }
   ],
   "source": []
  }
 ],
 "metadata": {
  "kernelspec": {
   "display_name": "Python 3.8.2 64-bit",
   "language": "python",
   "name": "python3"
  },
  "language_info": {
   "codemirror_mode": {
    "name": "ipython",
    "version": 3
   },
   "file_extension": ".py",
   "mimetype": "text/x-python",
   "name": "python",
   "nbconvert_exporter": "python",
   "pygments_lexer": "ipython3",
   "version": "3.8.2"
  },
  "vscode": {
   "interpreter": {
    "hash": "31f2aee4e71d21fbe5cf8b01ff0e069b9275f58929596ceb00d14d90e3e16cd6"
   }
  }
 },
 "nbformat": 4,
 "nbformat_minor": 5
}
